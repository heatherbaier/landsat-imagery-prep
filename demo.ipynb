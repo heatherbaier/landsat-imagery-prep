{
 "metadata": {
  "language_info": {
   "codemirror_mode": {
    "name": "ipython",
    "version": 3
   },
   "file_extension": ".py",
   "mimetype": "text/x-python",
   "name": "python",
   "nbconvert_exporter": "python",
   "pygments_lexer": "ipython3",
   "version": "3.7.10"
  },
  "orig_nbformat": 2,
  "kernelspec": {
   "name": "python3710jvsc74a57bd06e6e7e11ff29b7ea88d93fdd1bf54ac8bd20e793b837d22d51eef8412ed09bee",
   "display_name": "Python 3.7.10 64-bit ('caoe': conda)"
  }
 },
 "nbformat": 4,
 "nbformat_minor": 2,
 "cells": [
  {
   "cell_type": "code",
   "execution_count": null,
   "metadata": {},
   "outputs": [],
   "source": [
    "# Import Landast Prep package\n",
    "import landsat_prep as lp"
   ]
  },
  {
   "cell_type": "code",
   "execution_count": null,
   "metadata": {},
   "outputs": [],
   "source": [
    "# Set variables\n",
    "ISO = \"MEX\"\n",
    "ADM_ID = \"MEX-ADM2-1590546715-B615\"\n",
    "IC = \"LANDSAT/LT05/C01/T1\"\n",
    "YEAR = \"2010\"\n",
    "MONTH = \"1\""
   ]
  },
  {
   "source": [
    "Download shapefile for specified country and administrative unit for geoBoundaries.org"
   ],
   "cell_type": "markdown",
   "metadata": {}
  },
  {
   "cell_type": "code",
   "execution_count": null,
   "metadata": {},
   "outputs": [],
   "source": [
    "lp.downloadGB(iso = \"MEX\", \n",
    "              adm = \"2\")"
   ]
  },
  {
   "cell_type": "code",
   "execution_count": null,
   "metadata": {},
   "outputs": [],
   "source": [
    "GB_PATH = \"./data/MEX/MEX_ADM2_fixedInternalTopology.shp\""
   ]
  },
  {
   "source": [
    "Download imagery from a Gogle Earth Engine imagery collection to a local repository."
   ],
   "cell_type": "markdown",
   "metadata": {}
  },
  {
   "cell_type": "code",
   "execution_count": null,
   "metadata": {},
   "outputs": [],
   "source": [
    "lp.download_imagery(shapeID = ADM_ID, \n",
    "                 year = \"2010\", \n",
    "                 ic = IC, \n",
    "                 month = \"1\", \n",
    "                 iso = ISO)"
   ]
  },
  {
   "source": [
    "Extract the Landsat tiff files from their zipfolders and save them as png's"
   ],
   "cell_type": "markdown",
   "metadata": {}
  },
  {
   "cell_type": "code",
   "execution_count": null,
   "metadata": {},
   "outputs": [],
   "source": [
    "lp.save_pngs(shapeID = ADM_ID)"
   ]
  },
  {
   "source": [
    "To bypass the individual steps and do the above 3 functions in one step, use prep_landsat"
   ],
   "cell_type": "markdown",
   "metadata": {}
  },
  {
   "cell_type": "code",
   "execution_count": null,
   "metadata": {},
   "outputs": [],
   "source": [
    "lp.prep_landsat(GB_PATH, ISO, ADM_ID, \"2010\", \"1\", IC)"
   ]
  }
 ]
}