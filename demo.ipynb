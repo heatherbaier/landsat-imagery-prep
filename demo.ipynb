{
 "cells": [
  {
   "cell_type": "code",
   "execution_count": 27,
   "metadata": {},
   "outputs": [],
   "source": [
    "import geopandas as gpd\n",
    "import pygee\n",
    "import os"
   ]
  },
  {
   "cell_type": "code",
   "execution_count": 18,
   "metadata": {},
   "outputs": [],
   "source": [
    "# Set variables\n",
    "ISO = \"GTM\"\n",
    "IC = \"LANDSAT/LT05/C01/T1\"\n",
    "YEAR = \"2010\"\n",
    "MONTH = \"1\"\n",
    "DATES = pygee.GetDays(YEAR, MONTH)\n",
    "BANDS = [\"B3\", \"B2\", \"B1\"]"
   ]
  },
  {
   "cell_type": "markdown",
   "metadata": {},
   "source": [
    "#### Download a shapefile from the geoBoundaries API"
   ]
  },
  {
   "cell_type": "code",
   "execution_count": 31,
   "metadata": {},
   "outputs": [
    {
     "name": "stdout",
     "output_type": "stream",
     "text": [
      "Making request to:  https://www.geoboundaries.org/gbRequest.html?ISO=GTM&ADM=ADM2\n",
      "Downloading data from:  https://geoboundaries.org/data/geoBoundaries-3_0_0/GTM/ADM2/geoBoundaries-3_0_0-GTM-ADM2-all.zip\n",
      "Downloading data into:  ./GTM\n",
      "Done downloading boundary data.\n"
     ]
    }
   ],
   "source": [
    "pygee.downloadGB(iso = ISO, \n",
    "                 adm = \"2\",\n",
    "                 base_dir = \"./\")"
   ]
  },
  {
   "cell_type": "code",
   "execution_count": 10,
   "metadata": {},
   "outputs": [
    {
     "data": {
      "text/html": [
       "<div>\n",
       "<style scoped>\n",
       "    .dataframe tbody tr th:only-of-type {\n",
       "        vertical-align: middle;\n",
       "    }\n",
       "\n",
       "    .dataframe tbody tr th {\n",
       "        vertical-align: top;\n",
       "    }\n",
       "\n",
       "    .dataframe thead th {\n",
       "        text-align: right;\n",
       "    }\n",
       "</style>\n",
       "<table border=\"1\" class=\"dataframe\">\n",
       "  <thead>\n",
       "    <tr style=\"text-align: right;\">\n",
       "      <th></th>\n",
       "      <th>shapeName</th>\n",
       "      <th>shapeISO</th>\n",
       "      <th>shapeID</th>\n",
       "      <th>shapeGroup</th>\n",
       "      <th>shapeType</th>\n",
       "      <th>geometry</th>\n",
       "    </tr>\n",
       "  </thead>\n",
       "  <tbody>\n",
       "    <tr>\n",
       "      <th>0</th>\n",
       "      <td>IxchiguÃ¡n</td>\n",
       "      <td>None</td>\n",
       "      <td>GTM-ADM2-1590671490-B1</td>\n",
       "      <td>GTM</td>\n",
       "      <td>ADM2</td>\n",
       "      <td>POLYGON ((-91.99385 15.16840, -91.97422 15.167...</td>\n",
       "    </tr>\n",
       "    <tr>\n",
       "      <th>1</th>\n",
       "      <td>Tajumulco</td>\n",
       "      <td>None</td>\n",
       "      <td>GTM-ADM2-1590671490-B2</td>\n",
       "      <td>GTM</td>\n",
       "      <td>ADM2</td>\n",
       "      <td>POLYGON ((-92.07984 15.03108, -92.08004 15.035...</td>\n",
       "    </tr>\n",
       "    <tr>\n",
       "      <th>2</th>\n",
       "      <td>San Luis</td>\n",
       "      <td>None</td>\n",
       "      <td>GTM-ADM2-1590671490-B3</td>\n",
       "      <td>GTM</td>\n",
       "      <td>ADM2</td>\n",
       "      <td>POLYGON ((-89.95281 16.24511, -89.94712 16.246...</td>\n",
       "    </tr>\n",
       "    <tr>\n",
       "      <th>3</th>\n",
       "      <td>RÃ­o Blanco</td>\n",
       "      <td>None</td>\n",
       "      <td>GTM-ADM2-1590671490-B4</td>\n",
       "      <td>GTM</td>\n",
       "      <td>ADM2</td>\n",
       "      <td>POLYGON ((-91.70805 15.02218, -91.69669 15.038...</td>\n",
       "    </tr>\n",
       "    <tr>\n",
       "      <th>4</th>\n",
       "      <td>Retalhuleu</td>\n",
       "      <td>None</td>\n",
       "      <td>GTM-ADM2-1590671490-B5</td>\n",
       "      <td>GTM</td>\n",
       "      <td>ADM2</td>\n",
       "      <td>POLYGON ((-92.16528 14.48544, -92.15901 14.491...</td>\n",
       "    </tr>\n",
       "  </tbody>\n",
       "</table>\n",
       "</div>"
      ],
      "text/plain": [
       "     shapeName shapeISO                 shapeID shapeGroup shapeType  \\\n",
       "0   IxchiguÃ¡n     None  GTM-ADM2-1590671490-B1        GTM      ADM2   \n",
       "1    Tajumulco     None  GTM-ADM2-1590671490-B2        GTM      ADM2   \n",
       "2     San Luis     None  GTM-ADM2-1590671490-B3        GTM      ADM2   \n",
       "3  RÃ­o Blanco     None  GTM-ADM2-1590671490-B4        GTM      ADM2   \n",
       "4   Retalhuleu     None  GTM-ADM2-1590671490-B5        GTM      ADM2   \n",
       "\n",
       "                                            geometry  \n",
       "0  POLYGON ((-91.99385 15.16840, -91.97422 15.167...  \n",
       "1  POLYGON ((-92.07984 15.03108, -92.08004 15.035...  \n",
       "2  POLYGON ((-89.95281 16.24511, -89.94712 16.246...  \n",
       "3  POLYGON ((-91.70805 15.02218, -91.69669 15.038...  \n",
       "4  POLYGON ((-92.16528 14.48544, -92.15901 14.491...  "
      ]
     },
     "execution_count": 10,
     "metadata": {},
     "output_type": "execute_result"
    }
   ],
   "source": [
    "gdf = gpd.read_file(\"./GTM/GTM_ADM2_fixedInternalTopology.shp\")\n",
    "gdf.head()"
   ]
  },
  {
   "cell_type": "code",
   "execution_count": 24,
   "metadata": {},
   "outputs": [
    {
     "data": {
      "text/plain": [
       "<AxesSubplot:>"
      ]
     },
     "execution_count": 24,
     "metadata": {},
     "output_type": "execute_result"
    },
    {
     "data": {
      "image/png": "[encoded data removed]",
      "text/plain": [
       "<Figure size 432x288 with 1 Axes>"
      ]
     },
     "metadata": {
      "needs_background": "light"
     },
     "output_type": "display_data"
    }
   ],
   "source": [
    "gdf[100:110].plot()"
   ]
  },
  {
   "cell_type": "markdown",
   "metadata": {},
   "source": [
    "#### The downlaod_imagery function will downlaod a zip file which contains the invdival.tiff files for each of the bands in the BANDS list. The name of the zip file will be {shapeID}_{DATES[0]}_{DATES[1]}.zip. The second function, save_pngs, will extract the files in the zip folder and create an RGB composite of them and save them to the export dir. This function isn't always super reliable and depends on the data type of the image that you download, so I'd recommend double checking the composites before trusting they are correct. The source code is at https://github.com/heatherbaier/pygee/blob/master/pygee/save_pngs.py. If the composites don't look correct, I'd recommend copying that code and making it work for your purposes. "
   ]
  },
  {
   "cell_type": "code",
   "execution_count": 29,
   "metadata": {},
   "outputs": [
    {
     "name": "stdout",
     "output_type": "stream",
     "text": [
      "GTM-ADM2-1590671490-B101  has  1  images available between  2010-1-1 and 2010-1-31\n"
     ]
    },
    {
     "name": "stderr",
     "output_type": "stream",
     "text": [
      "Lossy conversion from float64 to uint8. Range [14.0, 109.0]. Convert image to uint8 prior to saving to suppress this warning.\n"
     ]
    },
    {
     "name": "stdout",
     "output_type": "stream",
     "text": [
      "Image  0  of  1 ---- Month: May\n",
      "GTM-ADM2-1590671490-B102  has  1  images available between  2010-1-1 and 2010-1-31\n"
     ]
    },
    {
     "name": "stderr",
     "output_type": "stream",
     "text": [
      "Lossy conversion from float64 to uint8. Range [12.0, 255.0]. Convert image to uint8 prior to saving to suppress this warning.\n"
     ]
    },
    {
     "name": "stdout",
     "output_type": "stream",
     "text": [
      "Image  0  of  1 ---- Month: May\n",
      "GTM-ADM2-1590671490-B103  has  1  images available between  2010-1-1 and 2010-1-31\n"
     ]
    },
    {
     "name": "stderr",
     "output_type": "stream",
     "text": [
      "Lossy conversion from float64 to uint8. Range [20.0, 152.0]. Convert image to uint8 prior to saving to suppress this warning.\n"
     ]
    },
    {
     "name": "stdout",
     "output_type": "stream",
     "text": [
      "Image  0  of  1 ---- Month: May\n",
      "GTM-ADM2-1590671490-B104  has  1  images available between  2010-1-1 and 2010-1-31\n"
     ]
    },
    {
     "name": "stderr",
     "output_type": "stream",
     "text": [
      "Lossy conversion from float64 to uint8. Range [11.0, 168.0]. Convert image to uint8 prior to saving to suppress this warning.\n"
     ]
    },
    {
     "name": "stdout",
     "output_type": "stream",
     "text": [
      "Image  0  of  1 ---- Month: May\n",
      "GTM-ADM2-1590671490-B105  has  1  images available between  2010-1-1 and 2010-1-31\n"
     ]
    },
    {
     "name": "stderr",
     "output_type": "stream",
     "text": [
      "Lossy conversion from float64 to uint8. Range [9.0, 255.0]. Convert image to uint8 prior to saving to suppress this warning.\n"
     ]
    },
    {
     "name": "stdout",
     "output_type": "stream",
     "text": [
      "Image  0  of  1 ---- Month: May\n"
     ]
    }
   ],
   "source": [
    "for col, row in gdf[100:105].iterrows():\n",
    "    \n",
    "    pygee.download_imagery(geom = row.geometry,\n",
    "                           shapeID = row.shapeID,\n",
    "                           ic = IC, \n",
    "                           dates = DATES, \n",
    "                           imagery_dir = \"./imagery\", \n",
    "                           bands = BANDS)\n",
    "    \n",
    "    pygee.save_pngs(shapeID = row.shapeID,\n",
    "                    base_dir = \"./imagery\",\n",
    "                    export_dir = \"./extracted\",\n",
    "                    l = 5)        \n"
   ]
  },
  {
   "cell_type": "markdown",
   "metadata": {},
   "source": [
    "Download shapefile for specified country and administrative unit for geoBoundaries.org"
   ]
  }
 ],
 "metadata": {
  "kernelspec": {
   "display_name": "Python 3",
   "language": "python",
   "name": "python3"
  },
  "language_info": {
   "codemirror_mode": {
    "name": "ipython",
    "version": 3
   },
   "file_extension": ".py",
   "mimetype": "text/x-python",
   "name": "python",
   "nbconvert_exporter": "python",
   "pygments_lexer": "ipython3",
   "version": "3.7.10"
  }
 },
 "nbformat": 4,
 "nbformat_minor": 4
}
