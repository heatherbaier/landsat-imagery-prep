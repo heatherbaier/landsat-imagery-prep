{
 "metadata": {
  "language_info": {
   "codemirror_mode": {
    "name": "ipython",
    "version": 3
   },
   "file_extension": ".py",
   "mimetype": "text/x-python",
   "name": "python",
   "nbconvert_exporter": "python",
   "pygments_lexer": "ipython3",
   "version": "3.7.10-final"
  },
  "orig_nbformat": 2,
  "kernelspec": {
   "name": "caoe",
   "display_name": "caoe",
   "language": "python"
  }
 },
 "nbformat": 4,
 "nbformat_minor": 2,
 "cells": [
  {
   "cell_type": "code",
   "execution_count": 2,
   "metadata": {},
   "outputs": [],
   "source": [
    "from datetime import date, timedelta\n",
    "from joblib import Parallel, delayed\n",
    "from functools import partial\n",
    "import geopandas as gpd\n",
    "import multiprocessing\n",
    "import pandas as pd\n",
    "import numpy as np\n",
    "import argparse\n",
    "import calendar\n",
    "import datetime\n",
    "import requests\n",
    "import shapely\n",
    "import pyproj\n",
    "import shutil\n",
    "import ee\n",
    "import os\n",
    "\n",
    "from helpers import *"
   ]
  },
  {
   "cell_type": "code",
   "execution_count": 3,
   "metadata": {},
   "outputs": [
    {
     "output_type": "execute_result",
     "data": {
      "text/plain": [
       "                          shapeID  \\\n",
       "0        USA-ADM2-1590671490-B830   \n",
       "1        USA-ADM2-1590671490-B830   \n",
       "2        USA-ADM2-1590671490-B830   \n",
       "3        USA-ADM2-1590671490-B830   \n",
       "4        USA-ADM2-1590671490-B830   \n",
       "...                           ...   \n",
       "381002  USA-ADM2-1590671490-B2001   \n",
       "381003  USA-ADM2-1590671490-B2001   \n",
       "381004  USA-ADM2-1590671490-B2001   \n",
       "381005  USA-ADM2-1590671490-B2001   \n",
       "381006  USA-ADM2-1590671490-B2001   \n",
       "\n",
       "                                                 geometry  \n",
       "0       POLYGON ((-83.90731 44.63817, -83.96620 44.647...  \n",
       "1       POLYGON ((-83.92066 44.59614, -83.97947 44.605...  \n",
       "2       POLYGON ((-83.93398 44.55414, -83.99272 44.563...  \n",
       "3       POLYGON ((-83.94728 44.51217, -84.00593 44.521...  \n",
       "4       POLYGON ((-83.92622 44.77398, -83.98540 44.783...  \n",
       "...                                                   ...  \n",
       "381002  POLYGON ((-90.92832 47.57220, -90.99432 47.574...  \n",
       "381003  POLYGON ((-90.93154 47.52756, -90.99744 47.529...  \n",
       "381004  POLYGON ((-90.93476 47.48294, -91.00055 47.485...  \n",
       "381005  POLYGON ((-90.95629 48.11253, -91.02354 48.114...  \n",
       "381006  POLYGON ((-90.95950 48.06751, -91.02665 48.069...  \n",
       "\n",
       "[381007 rows x 2 columns]"
      ],
      "text/html": "<div>\n<style scoped>\n    .dataframe tbody tr th:only-of-type {\n        vertical-align: middle;\n    }\n\n    .dataframe tbody tr th {\n        vertical-align: top;\n    }\n\n    .dataframe thead th {\n        text-align: right;\n    }\n</style>\n<table border=\"1\" class=\"dataframe\">\n  <thead>\n    <tr style=\"text-align: right;\">\n      <th></th>\n      <th>shapeID</th>\n      <th>geometry</th>\n    </tr>\n  </thead>\n  <tbody>\n    <tr>\n      <th>0</th>\n      <td>USA-ADM2-1590671490-B830</td>\n      <td>POLYGON ((-83.90731 44.63817, -83.96620 44.647...</td>\n    </tr>\n    <tr>\n      <th>1</th>\n      <td>USA-ADM2-1590671490-B830</td>\n      <td>POLYGON ((-83.92066 44.59614, -83.97947 44.605...</td>\n    </tr>\n    <tr>\n      <th>2</th>\n      <td>USA-ADM2-1590671490-B830</td>\n      <td>POLYGON ((-83.93398 44.55414, -83.99272 44.563...</td>\n    </tr>\n    <tr>\n      <th>3</th>\n      <td>USA-ADM2-1590671490-B830</td>\n      <td>POLYGON ((-83.94728 44.51217, -84.00593 44.521...</td>\n    </tr>\n    <tr>\n      <th>4</th>\n      <td>USA-ADM2-1590671490-B830</td>\n      <td>POLYGON ((-83.92622 44.77398, -83.98540 44.783...</td>\n    </tr>\n    <tr>\n      <th>...</th>\n      <td>...</td>\n      <td>...</td>\n    </tr>\n    <tr>\n      <th>381002</th>\n      <td>USA-ADM2-1590671490-B2001</td>\n      <td>POLYGON ((-90.92832 47.57220, -90.99432 47.574...</td>\n    </tr>\n    <tr>\n      <th>381003</th>\n      <td>USA-ADM2-1590671490-B2001</td>\n      <td>POLYGON ((-90.93154 47.52756, -90.99744 47.529...</td>\n    </tr>\n    <tr>\n      <th>381004</th>\n      <td>USA-ADM2-1590671490-B2001</td>\n      <td>POLYGON ((-90.93476 47.48294, -91.00055 47.485...</td>\n    </tr>\n    <tr>\n      <th>381005</th>\n      <td>USA-ADM2-1590671490-B2001</td>\n      <td>POLYGON ((-90.95629 48.11253, -91.02354 48.114...</td>\n    </tr>\n    <tr>\n      <th>381006</th>\n      <td>USA-ADM2-1590671490-B2001</td>\n      <td>POLYGON ((-90.95950 48.06751, -91.02665 48.069...</td>\n    </tr>\n  </tbody>\n</table>\n<p>381007 rows × 2 columns</p>\n</div>"
     },
     "metadata": {},
     "execution_count": 3
    }
   ],
   "source": [
    "shp_file = gpd.read_file(\"./all_boxes.shp\")\n",
    "shp_file"
   ]
  },
  {
   "cell_type": "code",
   "execution_count": 4,
   "metadata": {},
   "outputs": [],
   "source": [
    "ee.Initialize()"
   ]
  },
  {
   "cell_type": "code",
   "execution_count": 10,
   "metadata": {},
   "outputs": [
    {
     "output_type": "execute_result",
     "data": {
      "text/plain": [
       "['2010-1-1', '2010-1-31']"
      ]
     },
     "metadata": {},
     "execution_count": 10
    }
   ],
   "source": [
    "dates = GetDays('2010', '1')\n",
    "dates"
   ]
  },
  {
   "cell_type": "code",
   "execution_count": 6,
   "metadata": {},
   "outputs": [
    {
     "output_type": "execute_result",
     "data": {
      "text/plain": [
       "<ee.featurecollection.FeatureCollection at 0x7f9e024cd210>"
      ]
     },
     "metadata": {},
     "execution_count": 6
    }
   ],
   "source": [
    "cur_shp = ConvertToFeature(shp_file.geometry[0])\n",
    "cur_shp"
   ]
  },
  {
   "cell_type": "code",
   "execution_count": 27,
   "metadata": {},
   "outputs": [
    {
     "output_type": "execute_result",
     "data": {
      "text/plain": [
       "<ee.imagecollection.ImageCollection at 0x7f9e02407a90>"
      ]
     },
     "metadata": {},
     "execution_count": 27
    }
   ],
   "source": [
    "l5 = ee.ImageCollection(\"LANDSAT/LT05/C01/T1\").filterDate(dates[0], dates[1]).filterBounds(cur_shp)\n",
    "l5"
   ]
  },
  {
   "cell_type": "code",
   "execution_count": 28,
   "metadata": {},
   "outputs": [
    {
     "output_type": "execute_result",
     "data": {
      "text/plain": [
       "<ee.image.Image at 0x7f9e02410290>"
      ]
     },
     "metadata": {},
     "execution_count": 28
    }
   ],
   "source": [
    "m = ee.Algorithms.Landsat.simpleComposite(l5).select(['B3', 'B2', 'B1'])\n",
    "m"
   ]
  },
  {
   "cell_type": "code",
   "execution_count": 29,
   "metadata": {},
   "outputs": [
    {
     "output_type": "execute_result",
     "data": {
      "text/plain": [
       "1"
      ]
     },
     "metadata": {},
     "execution_count": 29
    }
   ],
   "source": [
    "l5.size().getInfo()"
   ]
  },
  {
   "cell_type": "code",
   "execution_count": 30,
   "metadata": {},
   "outputs": [
    {
     "output_type": "execute_result",
     "data": {
      "text/plain": [
       "'POLYGON ((-83.90730607572486 44.63816518173967, -83.96620413216861 44.6476792811977, -83.95290501015911 44.6897496752692, -83.89392317475553 44.68022168977529, -83.90730607572486 44.63816518173967))'"
      ]
     },
     "metadata": {},
     "execution_count": 30
    }
   ],
   "source": [
    "str(shp_file.geometry[0])"
   ]
  },
  {
   "cell_type": "code",
   "execution_count": 31,
   "metadata": {},
   "outputs": [
    {
     "output_type": "execute_result",
     "data": {
      "text/plain": [
       "(-83.96620413216861,\n",
       " 44.638165181739666,\n",
       " -83.89392317475553,\n",
       " 44.689749675269205)"
      ]
     },
     "metadata": {},
     "execution_count": 31
    }
   ],
   "source": [
    "shp_file.geometry[0].bounds"
   ]
  },
  {
   "cell_type": "code",
   "execution_count": 32,
   "metadata": {},
   "outputs": [
    {
     "output_type": "execute_result",
     "data": {
      "text/plain": [
       "'POLYGON ((-83.90730607572486 44.63816518173967, -83.96620413216861 44.6476792811977, -83.95290501015911 44.6897496752692, -83.89392317475553 44.68022168977529, -83.90730607572486 44.63816518173967))'"
      ]
     },
     "metadata": {},
     "execution_count": 32
    }
   ],
   "source": [
    "str(shp_file.geometry[0])"
   ]
  },
  {
   "cell_type": "code",
   "execution_count": 33,
   "metadata": {},
   "outputs": [],
   "source": [
    "geometry = ee.Geometry.Rectangle(list(shp_file.geometry[0].bounds))\n",
    "# geometry"
   ]
  },
  {
   "cell_type": "code",
   "execution_count": 34,
   "metadata": {},
   "outputs": [],
   "source": [
    "fname = \"test.zip\"\n",
    "\n",
    "link = m.getDownloadURL({\n",
    "        'name': \"test\",\n",
    "        'crs': 'EPSG:4326',\n",
    "        'fileFormat': 'GeoTIFF',\n",
    "        'region': geometry,\n",
    "        'scale':30\n",
    "})"
   ]
  },
  {
   "cell_type": "code",
   "execution_count": 35,
   "metadata": {},
   "outputs": [
    {
     "output_type": "execute_result",
     "data": {
      "text/plain": [
       "58470"
      ]
     },
     "metadata": {},
     "execution_count": 35
    }
   ],
   "source": [
    "r = requests.get(link, allow_redirects=True)\n",
    "\n",
    "open(fname, 'wb').write(r.content)"
   ]
  },
  {
   "cell_type": "code",
   "execution_count": null,
   "metadata": {},
   "outputs": [],
   "source": [
    "            fname = cur_directory + \"/\" + row.shapeID + \"_\" + str(year) + \"_\" + str(month) + \".zip\"\n",
    "\n",
    "            # Get the URL download link\n",
    "            link = m.getDownloadURL({\n",
    "                    'name': row.shapeID + \"_\" + str(year) + \"_\" + str(month),\n",
    "                    'crs': 'EPSG:4326',\n",
    "                    'fileFormat': 'GeoTIFF',\n",
    "                    'region': geometry,\n",
    "                    'scale':30\n",
    "            })\n",
    "\n",
    "            r = requests.get(link, allow_redirects=True)\n",
    "\n",
    "            open(fname, 'wb').write(r.content)"
   ]
  },
  {
   "cell_type": "code",
   "execution_count": null,
   "metadata": {},
   "outputs": [],
   "source": [
    "def main(year, ic, shp, month):\n",
    "\n",
    "    ee.Initialize()\n",
    "\n",
    "    # Get the start and end dates of each month in the year to filter the imagery\n",
    "    dates = GetDays(year, month)\n",
    "\n",
    "    # Set up imagery directories\n",
    "    SetUp(year, month)\n",
    "\n",
    "    # Make a new directory to organize the imagery\n",
    "    cur_directory = os.path.join(\"./imagery\", str(year), str(month))\n",
    "    os.mkdir(cur_directory)\n",
    "\n",
    "    # For the bounding box of every Mexico ADM2...\n",
    "    for col, row in shp.iterrows():\n",
    "\n",
    "        try:\n",
    "\n",
    "            # Convert the ADM2 shape to a GEE feature\n",
    "            cur_shp = ConvertToFeature(row.geometry)\n",
    "\n",
    "            # Grab Landsat 5 Bands 1, 2 and 3 for the current month, year and ADM2\n",
    "            l5 = ee.ImageCollection(ic).filterDate(dates[0], dates[1]).filterBounds(cur_shp)\n",
    "\n",
    "            print(row.shapeName, \" has \", l5.size().getInfo(), \" images available in \", year)\n",
    "\n",
    "            # Mosaic the images together using the min (using min to avoid the high values of clouds)\n",
    "            m = ee.Algorithms.Landsat.simpleComposite(l5).select(['B3', 'B2', 'B1']);\n",
    "\n",
    "            # Get the 4 point bounding box of the ADM2 to limit the export region\n",
    "            geometry = ee.Geometry.Rectangle(list(row.geometry.bounds))\n",
    "\n",
    "            fname = cur_directory + \"/\" + row.shapeID + \"_\" + str(year) + \"_\" + str(month) + \".zip\"\n",
    "\n",
    "            # Get the URL download link\n",
    "            link = m.getDownloadURL({\n",
    "                    'name': row.shapeID + \"_\" + str(year) + \"_\" + str(month),\n",
    "                    'crs': 'EPSG:4326',\n",
    "                    'fileFormat': 'GeoTIFF',\n",
    "                    'region': geometry,\n",
    "                    'scale':30\n",
    "            })\n",
    "\n",
    "            r = requests.get(link, allow_redirects=True)\n",
    "\n",
    "            open(fname, 'wb').write(r.content)\n",
    "\n",
    "        except:\n",
    "\n",
    "            print(\"Imagery not available for \", row.shapeID, \" during month \", str(month), \" of \", str(year))\n",
    "\n",
    "\n",
    "\n",
    "\n",
    "if __name__ == \"__main__\":\n",
    "\n",
    "    # Trigger the authentication flow.\n",
    "    # ee.Authenticate()\n",
    "\n",
    "    # Parse input arguments\n",
    "    parser = argparse.ArgumentParser(), default=[\"a\", \"b\"]\n",
    "    parser.add_argument(\"ic\", help=\"GEE Imagery Collection ID\")\n",
    "    parser.add_argument(\"ISO\", help=\"Country ISO3\")\n",
    "    parser.add_argument(\"--year_list\", nargs=\"+\")\n",
    "    parser.add_argument(\"--month_list\", nargs=\"+\")\n",
    "    args = parser.parse_args()# python3 DownloadImagery.py\n",
    "\n",
    "    print(args.year_list)\n",
    "    print(args.month_list)\n",
    "\n",
    "    # Intitialize connection to GEE\n",
    "    ee.Initialize()\n",
    "\n",
    "    # Read in the shapefile to clip from\n",
    "    shp_path = os.path.join(\"./data/\", args.ISO, (args.ISO + \"_bbox\"), (args.ISO + \"_bbox.shp\"))\n",
    "    shp = gpd.read_file(shp_path)\n",
    "\n",
    "    # Parallelization\n",
    "    num_cores = multiprocessing.cpu_count()\n",
    "    output = Parallel(n_jobs=num_cores)(delayed(main)(year=y, ic=args.ic, shp=shp, month=j) for y in args.year_list for j in args.month_list)"
   ]
  }
 ]
}