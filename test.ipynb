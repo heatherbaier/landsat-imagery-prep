{
 "metadata": {
  "language_info": {
   "codemirror_mode": {
    "name": "ipython",
    "version": 3
   },
   "file_extension": ".py",
   "mimetype": "text/x-python",
   "name": "python",
   "nbconvert_exporter": "python",
   "pygments_lexer": "ipython3",
   "version": "3.7.10"
  },
  "orig_nbformat": 2,
  "kernelspec": {
   "name": "python3",
   "display_name": "Python 3",
   "language": "python"
  }
 },
 "nbformat": 4,
 "nbformat_minor": 2,
 "cells": [
  {
   "cell_type": "code",
   "execution_count": 2,
   "metadata": {},
   "outputs": [],
   "source": [
    "# !pip3 uninstall -y landsat-prep\n",
    "# !pip3 install git+https://github.com/heatherbaier/landsat-imagery-prep.git"
   ]
  },
  {
   "cell_type": "code",
   "execution_count": 3,
   "metadata": {},
   "outputs": [],
   "source": [
    "import landsat_prep as lp"
   ]
  },
  {
   "cell_type": "code",
   "execution_count": 4,
   "metadata": {},
   "outputs": [],
   "source": [
    "ISO = \"MEX\"\n",
    "ADM = \"2\"\n",
    "BASE_DIR = \"./test/\"\n",
    "GB_PATH = \"./test/MEX/MEX_ADM2_fixedInternalTopology.shp\"\n",
    "SHAPE_ID = \"MEX-ADM2-1590546715-B1903\"\n",
    "YEAR = \"2010\"\n",
    "MONTH = \"1\"\n",
    "IC = \"LANDSAT/LT05/C01/T1\""
   ]
  },
  {
   "cell_type": "code",
   "execution_count": 6,
   "metadata": {},
   "outputs": [
    {
     "output_type": "stream",
     "name": "stdout",
     "text": [
      "Making request to:  https://www.geoboundaries.org/gbRequest.html?ISO=MEX&ADM=ADM2\n",
      "Downloading data from:  https://geoboundaries.org/data/geoBoundaries-3_0_0/MEX/ADM2/geoBoundaries-3_0_0-MEX-ADM2-all.zip\n",
      "Downloading data into:  ./test/MEX\n",
      "Done downloading boundary data.\n"
     ]
    }
   ],
   "source": [
    "lp.downloadGB(ISO, ADM, BASE_DIR)"
   ]
  },
  {
   "cell_type": "code",
   "execution_count": 14,
   "metadata": {},
   "outputs": [
    {
     "output_type": "stream",
     "name": "stdout",
     "text": [
      "MEX-ADM2-1590546715-B1903  has  1  images available in  2010\n"
     ]
    }
   ],
   "source": [
    "lp.download_boundary_imagery(GB_PATH, SHAPE_ID, YEAR, IC, MONTH, ISO, BASE_DIR, v = True)"
   ]
  },
  {
   "cell_type": "code",
   "execution_count": 5,
   "metadata": {},
   "outputs": [
    {
     "output_type": "stream",
     "name": "stdout",
     "text": [
      "Image  0  of  1 ---- Month: May\n"
     ]
    }
   ],
   "source": [
    "lp.save_boundary_pngs(SHAPE_ID, ISO, BASE_DIR)"
   ]
  },
  {
   "cell_type": "code",
   "execution_count": null,
   "metadata": {},
   "outputs": [],
   "source": []
  }
 ]
}